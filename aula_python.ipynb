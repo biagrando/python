{
  "nbformat": 4,
  "nbformat_minor": 0,
  "metadata": {
    "colab": {
      "provenance": [],
      "authorship_tag": "ABX9TyMnmoiCvbEWAPBZMzcdntFf",
      "include_colab_link": true
    },
    "kernelspec": {
      "name": "python3",
      "display_name": "Python 3"
    },
    "language_info": {
      "name": "python"
    }
  },
  "cells": [
    {
      "cell_type": "markdown",
      "metadata": {
        "id": "view-in-github",
        "colab_type": "text"
      },
      "source": [
        "<a href=\"https://colab.research.google.com/github/biagrando/python/blob/main/aula_python.ipynb\" target=\"_parent\"><img src=\"https://colab.research.google.com/assets/colab-badge.svg\" alt=\"Open In Colab\"/></a>"
      ]
    },
    {
      "cell_type": "markdown",
      "source": [
        "#**Aula 1** 🌸 💓 ✨"
      ],
      "metadata": {
        "id": "yoCkpGgWiMZ6"
      }
    },
    {
      "cell_type": "code",
      "source": [
        "print(\"I competição de progamação da start\")\n",
        "ano = \"II\"\n",
        "print(f\"{ano} competição de programação da start\")"
      ],
      "metadata": {
        "id": "1ki8j0HjjW7D"
      },
      "execution_count": null,
      "outputs": []
    },
    {
      "cell_type": "markdown",
      "source": [
        "#**aula 2** 💗 💐 🌼"
      ],
      "metadata": {
        "id": "pjCPD9Vco7tW"
      }
    },
    {
      "cell_type": "code",
      "source": [
        "livro_ficcao = 8\n",
        "livro_n_ficcao = 10\n",
        "livro_infantil = 6\n",
        "pontos_rodrigo = livro_ficcao + livro_n_ficcao + livro_infantil\n",
        "pontos_ana = 2 * livro_ficcao + 5 * livro_infantil\n",
        "pontos_totais = pontos_rodrigo + pontos_ana\n",
        "print(f\"Os pontos totais do Rodrigo são {pontos_rodrigo}\")\n",
        "print(f\"os pontos totais da ana são {pontos_ana}\")\n",
        "print(f\"Os pontos totais do Rodrigo e da ana são {pontos_totais}\")"
      ],
      "metadata": {
        "colab": {
          "base_uri": "https://localhost:8080/"
        },
        "id": "2dQ0BR4spWkm",
        "outputId": "6ce05c25-0d66-4626-ce02-bc2a533d97e0"
      },
      "execution_count": 2,
      "outputs": [
        {
          "output_type": "stream",
          "name": "stdout",
          "text": [
            "Os pontos totais do Rodrigo são 24\n",
            "os pontos totais da ana são 46\n",
            "Os pontos totais do Rodrigo e da ana são 70\n"
          ]
        }
      ]
    },
    {
      "cell_type": "markdown",
      "source": [
        "#**aula 3 - tabuada** 🦋 🚘 💘"
      ],
      "metadata": {
        "id": "oXrPoS9Qrjzf"
      }
    },
    {
      "cell_type": "code",
      "source": [
        "def tabuada(numero):\n",
        "    for contador in range(1, 11):  # Gera números de 1 a 10\n",
        "        print(f\"{numero} x {contador} = {numero * contador}\")\n",
        "numero = int(input(\"Digite um número para ver sua tabuada: \"))\n",
        "tabuada(numero)"
      ],
      "metadata": {
        "id": "i8lE-zwRstnx",
        "outputId": "43b696bd-16e5-44db-d157-596949270a39",
        "colab": {
          "base_uri": "https://localhost:8080/"
        }
      },
      "execution_count": 3,
      "outputs": [
        {
          "output_type": "stream",
          "name": "stdout",
          "text": [
            "Digite um número para ver sua tabuada: 8\n",
            "8 x 1 = 8\n",
            "8 x 2 = 16\n",
            "8 x 3 = 24\n",
            "8 x 4 = 32\n",
            "8 x 5 = 40\n",
            "8 x 6 = 48\n",
            "8 x 7 = 56\n",
            "8 x 8 = 64\n",
            "8 x 9 = 72\n",
            "8 x 10 = 80\n"
          ]
        }
      ]
    }
  ]
}