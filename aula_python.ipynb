{
  "nbformat": 4,
  "nbformat_minor": 0,
  "metadata": {
    "colab": {
      "provenance": [],
      "authorship_tag": "ABX9TyPrXFuYZ7wOeHkTzb4wWx+X",
      "include_colab_link": true
    },
    "kernelspec": {
      "name": "python3",
      "display_name": "Python 3"
    },
    "language_info": {
      "name": "python"
    }
  },
  "cells": [
    {
      "cell_type": "markdown",
      "metadata": {
        "id": "view-in-github",
        "colab_type": "text"
      },
      "source": [
        "<a href=\"https://colab.research.google.com/github/biagrando/python/blob/main/aula_python.ipynb\" target=\"_parent\"><img src=\"https://colab.research.google.com/assets/colab-badge.svg\" alt=\"Open In Colab\"/></a>"
      ]
    },
    {
      "cell_type": "markdown",
      "source": [
        "#**Aula 1** 🌸 💓 ✨"
      ],
      "metadata": {
        "id": "yoCkpGgWiMZ6"
      }
    },
    {
      "cell_type": "code",
      "source": [
        "print(\"I competição de progamação da start\")\n",
        "ano = \"II\"\n",
        "print(f\"{ano} competição de programação da start\")"
      ],
      "metadata": {
        "id": "1ki8j0HjjW7D"
      },
      "execution_count": null,
      "outputs": []
    },
    {
      "cell_type": "markdown",
      "source": [
        "#**aula 2** 💗 💐 🌼"
      ],
      "metadata": {
        "id": "pjCPD9Vco7tW"
      }
    },
    {
      "cell_type": "code",
      "source": [],
      "metadata": {
        "id": "2dQ0BR4spWkm"
      },
      "execution_count": null,
      "outputs": []
    }
  ]
}